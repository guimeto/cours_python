{
 "cells": [
  {
   "cell_type": "markdown",
   "metadata": {},
   "source": [
    "<b> Analyse des données de location de vélo à San Fransisco </b> <br>\n",
    "\n",
    "Le Bay Area Bike Share permet des excursions à vélo rapides, faciles et abordables dans la région de la Baie de San Francisco. Ils publient régulièrement des données ouvertes (cet ensemble de données est une version transformée des données de ce lien) et maintiennent une API en temps réel : <br>\n",
    "\n",
    "station - Contient des données qui représentent une station où les utilisateurs peuvent prendre ou rendre des vélos. <br>\n",
    "\n",
    "status - données sur le nombre de vélos et docks disponibles pour une station et une minute données. <br>\n",
    "\n",
    "trips - Données sur les voyages à vélo individuels <br>\n",
    "\n",
    "weather - Données sur la météo d'un jour spécifique pour certains codes postaux\n",
    "\n",
    "1) Télécharger le fichier de la BDD depuis la page kaggle : https://www.kaggle.com/benhamner/sf-bay-area-bike-share/home <br>\n",
    "2) A l'aide de sqlite3, connectez-vous à database.sqlite <br>\n",
    "3) Affichez le résumé des tables présentes dans la BDD <br>\n",
    "4) Créez le dataframe 'trip' contenant toutes les données de la table trip <br>\n",
    "5) A l'aide de count() comptez le nombres de voyages présents dans la table trip <br>\n",
    "6) A l'aide de AVG, caculez le temps moyen d'un voyage (duration). Pour plus de clareté, renomnez la colonne 'Moyenne_loc_minutes'. Le temps est en seconde. Passez le en minutes en divisant Moyenne_loc_minutes par 60. <br>\n",
    "7) Affichez Moyenne_loc_minutes et count() en fonction du type d'abonement (subscription_type) à l'aide de GROUP BY\n",
    "8) Créez le dataframe 'station' contenant toutes les données de la table trip <br>\n",
    "9) On souhaite récupérer le nom de la ville de départ de chaque voyage. A l'aide de Inner Join, récupérer la colonne city de la table city et ajouter la à la table trip <br>\n",
    "9) Affichez maintenant Moyenne_loc_minutes et count(*) en fonction de la ville de départ à l'aide de GROUP BY <br>\n",
    "10 ) Faites le même exercice mais avec la ville d'arrivée <br>\n",
    "11) Affichez ce même tableau mais uniquement pour les utilisateurs avec abonnement ('Subscriber' dans la colonne subscription_type)"
   ]
  }
 ],
 "metadata": {
  "kernelspec": {
   "display_name": "Python 3",
   "language": "python",
   "name": "python3"
  },
  "language_info": {
   "codemirror_mode": {
    "name": "ipython",
    "version": 3
   },
   "file_extension": ".py",
   "mimetype": "text/x-python",
   "name": "python",
   "nbconvert_exporter": "python",
   "pygments_lexer": "ipython3",
   "version": "3.6.2"
  }
 },
 "nbformat": 4,
 "nbformat_minor": 2
}
