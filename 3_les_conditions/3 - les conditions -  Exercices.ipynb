{
 "cells": [
  {
   "cell_type": "markdown",
   "metadata": {},
   "source": [
    "1) Ecrivez les conditions nécéssaires pour que La variable \"coldOrHot\" retourne la valeur 'Hot' si la température est suppérieure ou égale à 25°. Si la température est scrictement inférieure à 25°, alors la variable 'coldOrHot' retourne 'Cold'."
   ]
  },
  {
   "cell_type": "code",
   "execution_count": 3,
   "metadata": {},
   "outputs": [],
   "source": [
    "temperature = 28\n",
    "#...vos conditions\n",
    "#Une fois votre code en place, modifiez la température pour voir si cela fonctionne bien"
   ]
  },
  {
   "cell_type": "code",
   "execution_count": 6,
   "metadata": {},
   "outputs": [
    {
     "name": "stdout",
     "output_type": "stream",
     "text": [
      "Hot\n"
     ]
    }
   ],
   "source": [
    "if temperature >= 25: \n",
    "    coldOrHot = 'Hot'\n",
    "else: \n",
    "    coldOrHot = 'Cold'\n",
    "print(coldOrHot)"
   ]
  },
  {
   "cell_type": "markdown",
   "metadata": {},
   "source": [
    " 2) les variables TxConversionJour1 et TxConversionJour2 remontent le taux de conversion d'un site e commerce sur 2 jours consecutifs.\n",
    " \n",
    "Ne vous souciez pas trop de la manière dont ça fonctionne pour l'instant mais à chaque fois que la cellule vas être lancée les valeurs vont être modifiées. Une variable \"color\" doit indiquer à l'utilisateur la tendance du taux de conversion : <br>\n",
    "- Si la tendance est à la hausse, alors la variable prend pour valeur 'Green' <br>\n",
    "- Si la tendance est à la baisse, alors la variable pend pour valeur 'Red'<br>\n",
    "- Si la tendance est égale, alors la variable pour pour valeur \"Yellow\"<br><br>\n",
    "\n",
    "Une fois votre code en place, imprimez la valeur de color."
   ]
  },
  {
   "cell_type": "code",
   "execution_count": null,
   "metadata": {},
   "outputs": [],
   "source": [
    "import random\n",
    "TxConversionJour1 = random.uniform(0, 1)\n",
    "TxConversionJour2 = random.uniform(0, 1)\n",
    "\n",
    "print(TxConversionJour1)\n",
    "print(TxConversionJour2)\n",
    "#Faites tourner plusieurs fois cette cellule pour comprendre le comportement\n",
    "#Ecrivez les condition nécéssaires pour que la variable 'color' retourne la bonne valeur"
   ]
  },
  {
   "cell_type": "code",
   "execution_count": 9,
   "metadata": {},
   "outputs": [
    {
     "name": "stdout",
     "output_type": "stream",
     "text": [
      "0.816058171103168\n",
      "0.07933551093892899\n",
      "Red\n"
     ]
    }
   ],
   "source": [
    "import random\n",
    "TxConversionJour1 = random.uniform(0, 1)\n",
    "TxConversionJour2 = random.uniform(0, 1)\n",
    "\n",
    "if TxConversionJour2 > TxConversionJour1:\n",
    "    color = 'Green'\n",
    "elif   TxConversionJour2 == TxConversionJour1:\n",
    "    color = 'Yellow'\n",
    "else: \n",
    "    color = 'Red'\n",
    "    \n",
    "print(TxConversionJour1)\n",
    "print(TxConversionJour2)\n",
    "print(color)"
   ]
  },
  {
   "cell_type": "markdown",
   "metadata": {},
   "source": [
    "3) Nous sommes en train de créer un assistant vocal et on souhaite créer une réponse personnalisée à la question 'Est-ce je peux aller à la plage aujourd'hui ?' que pourraient poser des utilisateurs en vaccances. nous avons 2 informations :\n",
    "- La température de l'eau \n",
    "- la meteo\n",
    "\n",
    "Voici le comportement attendue :\n",
    "- Si la température de l'eau est inférieure à 20° et qu'il pleut, la réponse doit être 'Je vous le déconseille fortement'\n",
    "- Si la température de l'eau est inférieure à 20° ou qu'il pleut, la réponse doit être 'la journée n'est pas idéal pour la baignade'\n",
    "- Si la température de l'eau est supérieure ou égal à 20° et qu'il y a du soleil, la réponse doit être 'la journée est optimale pour cela !'\n",
    "\n",
    "Stockez le résultat dans la variable 'reponseAssistant' et faites varier les valeurs pour tester votre code ! "
   ]
  },
  {
   "cell_type": "code",
   "execution_count": 13,
   "metadata": {},
   "outputs": [],
   "source": [
    "temperatureEau = 20\n",
    "meteo = 'pluie' #peut prendre les valeurs 'soleil' ou 'pluie'\n",
    "#..."
   ]
  },
  {
   "cell_type": "code",
   "execution_count": 15,
   "metadata": {},
   "outputs": [
    {
     "name": "stdout",
     "output_type": "stream",
     "text": [
      "la journée n'est pas idéal pour la baignade\n"
     ]
    }
   ],
   "source": [
    "if temperatureEau < 20 and meteo == 'pluie':\n",
    "    reponseAssistant = 'Je vous le déconseille fortement'\n",
    "elif temperatureEau < 20 or meteo ==  'pluie':\n",
    "    reponseAssistant = 'la journée n\\'est pas idéal pour la baignade'\n",
    "elif temperatureEau < 20 and meteo == 'soleil': \n",
    "    reponseAssistant = 'la journée est optimale pour cela !'\n",
    "print(reponseAssistant)"
   ]
  },
  {
   "cell_type": "code",
   "execution_count": null,
   "metadata": {},
   "outputs": [],
   "source": []
  }
 ],
 "metadata": {
  "kernelspec": {
   "display_name": "Python 3",
   "language": "python",
   "name": "python3"
  },
  "language_info": {
   "codemirror_mode": {
    "name": "ipython",
    "version": 3
   },
   "file_extension": ".py",
   "mimetype": "text/x-python",
   "name": "python",
   "nbconvert_exporter": "python",
   "pygments_lexer": "ipython3",
   "version": "3.7.3"
  }
 },
 "nbformat": 4,
 "nbformat_minor": 2
}
