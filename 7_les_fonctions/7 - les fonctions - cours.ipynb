{
 "cells": [
  {
   "cell_type": "markdown",
   "metadata": {},
   "source": [
    "<h1>Objectifs</h1>\n",
    "\n",
    "- Comprendre ce qu'est une fonction\n",
    "- Créer sa première fonction\n",
    "- Intégrer des paramètres à une fonction\n",
    "- ajouter des paramètres optionnels\n",
    "- ajouter une nomenclature à vos paramètres"
   ]
  },
  {
   "cell_type": "markdown",
   "metadata": {},
   "source": [
    "Une fonction est un bloc de code qui ne s'exécute que lorsqu'il est appelé.\n",
    "Vous pouvez transférer des données, appelées paramètres, dans une fonction.\n",
    "Une fonction peut ainsi renvoyer des données."
   ]
  },
  {
   "cell_type": "code",
   "execution_count": 1,
   "metadata": {},
   "outputs": [],
   "source": [
    "def ma_fonction():\n",
    "    print(\"ma première fonction, je suis ému :')\")"
   ]
  },
  {
   "cell_type": "code",
   "execution_count": 2,
   "metadata": {},
   "outputs": [
    {
     "name": "stdout",
     "output_type": "stream",
     "text": [
      "ma première fonction, je suis ému :')\n"
     ]
    }
   ],
   "source": [
    "ma_fonction()"
   ]
  },
  {
   "cell_type": "markdown",
   "metadata": {},
   "source": [
    "<h2> Les paramètres des fonctions </h2>"
   ]
  },
  {
   "cell_type": "code",
   "execution_count": 3,
   "metadata": {},
   "outputs": [
    {
     "name": "stdout",
     "output_type": "stream",
     "text": [
      "votre nom:Guillaume\n",
      "Bienvenue Guillaume\n"
     ]
    }
   ],
   "source": [
    "def bienvenue(userName):\n",
    "    print('Bienvenue '+userName)\n",
    "\n",
    "nom = input('votre nom:')\n",
    "bienvenue(nom)"
   ]
  },
  {
   "cell_type": "code",
   "execution_count": 4,
   "metadata": {},
   "outputs": [],
   "source": [
    "def bienvenue(userName):\n",
    "    print('Bienvenue '+userName+ ' ! ' )\n",
    "    humeur = input('comment allez-vous ? ')\n",
    "    print('votre humeur : '+humeur)"
   ]
  },
  {
   "cell_type": "code",
   "execution_count": 5,
   "metadata": {},
   "outputs": [
    {
     "name": "stdout",
     "output_type": "stream",
     "text": [
      "votre nomGuillaume\n",
      "Bienvenue Guillaume ! \n",
      "comment allez-vous ? bien\n",
      "votre humeur : bien\n"
     ]
    }
   ],
   "source": [
    "nom = input('votre nom')\n",
    "bienvenue(nom)"
   ]
  },
  {
   "cell_type": "markdown",
   "metadata": {},
   "source": [
    "<h2>Retourner une ou plusieurs valeurs avec une fonction</h2>"
   ]
  },
  {
   "cell_type": "code",
   "execution_count": 6,
   "metadata": {},
   "outputs": [],
   "source": [
    "def calculPrixTTC(prixht,TVA):\n",
    "    prixttc = prixht*(1+TVA)\n",
    "    \n",
    "calculPrixTTC(10,0.20)"
   ]
  },
  {
   "cell_type": "code",
   "execution_count": 7,
   "metadata": {},
   "outputs": [
    {
     "name": "stdout",
     "output_type": "stream",
     "text": [
      "12.0\n"
     ]
    },
    {
     "data": {
      "text/plain": [
       "12.0"
      ]
     },
     "execution_count": 7,
     "metadata": {},
     "output_type": "execute_result"
    }
   ],
   "source": [
    "def calculPrixTTC(prixht,TVA):\n",
    "    prixttc = prixht*(1+TVA)\n",
    "    return prixttc\n",
    "\n",
    "print(calculPrixTTC(10,0.20))\n",
    "\n",
    "prixPdt = calculPrixTTC(10,0.20)\n",
    "prixPdt"
   ]
  },
  {
   "cell_type": "code",
   "execution_count": 8,
   "metadata": {},
   "outputs": [
    {
     "data": {
      "text/plain": [
       "(24.0, 4.0)"
      ]
     },
     "execution_count": 8,
     "metadata": {},
     "output_type": "execute_result"
    }
   ],
   "source": [
    "def calculPrixTTC(prixht,TVA):\n",
    "    prixttc = prixht*(1+TVA)\n",
    "    coutTVA = prixttc - prixht\n",
    "    return prixttc, coutTVA\n",
    "\n",
    "prixPdt = calculPrixTTC(20,0.20)\n",
    "prixPdt"
   ]
  },
  {
   "cell_type": "code",
   "execution_count": 9,
   "metadata": {},
   "outputs": [
    {
     "name": "stdout",
     "output_type": "stream",
     "text": [
      "24.0\n",
      "4.0\n"
     ]
    }
   ],
   "source": [
    "prixPdt, coutTVA = calculPrixTTC(20,0.20)\n",
    "print(prixPdt)\n",
    "print(coutTVA)"
   ]
  },
  {
   "cell_type": "markdown",
   "metadata": {},
   "source": [
    "<h2> Les options sur les paramètres </h2>"
   ]
  },
  {
   "cell_type": "code",
   "execution_count": 10,
   "metadata": {},
   "outputs": [
    {
     "ename": "TypeError",
     "evalue": "calculPrixTTC() missing 1 required positional argument: 'TVA'",
     "output_type": "error",
     "traceback": [
      "\u001b[1;31m---------------------------------------------------------------------------\u001b[0m",
      "\u001b[1;31mTypeError\u001b[0m                                 Traceback (most recent call last)",
      "\u001b[1;32m<ipython-input-10-6633a6f65415>\u001b[0m in \u001b[0;36m<module>\u001b[1;34m\u001b[0m\n\u001b[0;32m      1\u001b[0m \u001b[1;31m# et si on oubli un paramètre ?\u001b[0m\u001b[1;33m\u001b[0m\u001b[1;33m\u001b[0m\u001b[1;33m\u001b[0m\u001b[0m\n\u001b[1;32m----> 2\u001b[1;33m \u001b[0mtest\u001b[0m \u001b[1;33m=\u001b[0m \u001b[0mcalculPrixTTC\u001b[0m\u001b[1;33m(\u001b[0m\u001b[1;36m20\u001b[0m\u001b[1;33m)\u001b[0m\u001b[1;33m\u001b[0m\u001b[1;33m\u001b[0m\u001b[0m\n\u001b[0m",
      "\u001b[1;31mTypeError\u001b[0m: calculPrixTTC() missing 1 required positional argument: 'TVA'"
     ]
    }
   ],
   "source": [
    "# et si on oubli un paramètre ?\n",
    "test = calculPrixTTC(20)"
   ]
  },
  {
   "cell_type": "code",
   "execution_count": 11,
   "metadata": {},
   "outputs": [
    {
     "name": "stdout",
     "output_type": "stream",
     "text": [
      "(24.0, 4.0)\n",
      "(21.0, 1.0)\n"
     ]
    }
   ],
   "source": [
    "def calculPrixTTC(prixht,TVA=0.20):\n",
    "    prixttc = prixht*(1+TVA)\n",
    "    coutTVA = prixttc - prixht\n",
    "    return prixttc, coutTVA\n",
    "\n",
    "test1 = calculPrixTTC(20)\n",
    "print(test1)\n",
    "test2 = calculPrixTTC(20,0.05)\n",
    "print(test2)"
   ]
  },
  {
   "cell_type": "code",
   "execution_count": 12,
   "metadata": {},
   "outputs": [
    {
     "data": {
      "text/plain": [
       "(1.05, 1.0)"
      ]
     },
     "execution_count": 12,
     "metadata": {},
     "output_type": "execute_result"
    }
   ],
   "source": [
    "#Et si on inverse les paramètres ?\n",
    "calculPrixTTC(0.05,20)"
   ]
  },
  {
   "cell_type": "code",
   "execution_count": 13,
   "metadata": {},
   "outputs": [
    {
     "data": {
      "text/plain": [
       "(21.0, 1.0)"
      ]
     },
     "execution_count": 13,
     "metadata": {},
     "output_type": "execute_result"
    }
   ],
   "source": [
    "#La bonne méthode\n",
    "calculPrixTTC(TVA=0.05,prixht=20)"
   ]
  },
  {
   "cell_type": "code",
   "execution_count": null,
   "metadata": {},
   "outputs": [],
   "source": []
  }
 ],
 "metadata": {
  "kernelspec": {
   "display_name": "Python 3",
   "language": "python",
   "name": "python3"
  },
  "language_info": {
   "codemirror_mode": {
    "name": "ipython",
    "version": 3
   },
   "file_extension": ".py",
   "mimetype": "text/x-python",
   "name": "python",
   "nbconvert_exporter": "python",
   "pygments_lexer": "ipython3",
   "version": "3.7.3"
  }
 },
 "nbformat": 4,
 "nbformat_minor": 2
}
