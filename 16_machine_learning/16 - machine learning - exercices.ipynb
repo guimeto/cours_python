{
 "cells": [
  {
   "cell_type": "markdown",
   "metadata": {},
   "source": [
    "<p>Notre objectif ici va être de prédire le coup (\"charge\" en anglais) d'un patient pour son assurance maladie en fonction de ses caractéristiques !\n",
    "Vous devrez être très autonomes dans ce TP aussi il est très fortement conseillé d'avoir le cours ouvert </p>\n",
    "\n",
    "1) Lire attentivement les informations sur les colonnes du dataset : https://www.kaggle.com/mirichoi0218/insurance\n",
    "\n",
    "2) Importer le fichier 'insurance_exercice.csv' dans le dataframme data et affichez quelques lignes <br><br>\n",
    "3) data cleaning ! Procedez aux vérifications suivantes : \n",
    "- Mes colonnes sont-elles au bon format ?\n",
    "- Mes colonnes ont-elles des valeurs manquantes ? Si oui comment les gérer ? (information supplémentaire : une valeur nulle pour les enfants indique en fait que la personne n'a tout simplement pas d'enfant)\n",
    "- Suite à mes correctifs, y a t'il encore des valeurs manquantes dans mon data set ?\n",
    "- Y a t'il des colonnes non pertinentes pour constuire un modèle ?\n",
    "\n",
    "4) construction du modèle ! \n",
    "- De la même manière que dans le cours, utilisez la librairie 'random' pour créer le daframe dataR qui sera une version mélangée aléatoirement de data\n",
    "- Créez ensuite les dataframes dataTrain et dataTests qui contiendrons respectivement les 80% premières lignes et les 20% dernières ligne\n",
    "- A l'aide SKlearn, construisez une regression linéaire univariée avec l'Age comme colonne d'entrainement et les charges comme colonne à prédire\n",
    "- Placez maintenant tout le code créé ici dans une fonction linearRegression qui prendre comme paramètre dataR qui est le daframe ,fit qui est la liste des colonnes d'entrainement et toPredict qui est le libellé de la valeur à prédir.\n",
    "Testez votre fonction sur le même exemple que dans la phase précédente\n",
    "-Ajouter dans votre fonction le code nécéssaire pour normaliser les valeurs\n",
    "des colonnes numériques d'entrainement. Justifiez le choix de normalisation choisie.\n",
    "testez votre fonction avec les colonnes d'entrainement Age et BMI\n",
    "- Faites en tri dans les colonnes numériques à conserver dans le modèle en analyse le coéficient de corrélation entre celles-ci et les charges\n",
    "- Vérifiez également que les colonnes d'entrainement ne soit pas trop similaire (matrice de correlation)\n",
    "- Analyser les colonnes catégoricielles et statuer sur le fait de pouvoir les utiliser dans notre modèle.\n",
    "- Dans un graphique, faites un nuage de point avec en x l'age, en y les charges et le fait que la personne soit fumeuse ou non en couleurs de points.\n",
    "Notez vos observations.\n",
    "- Ajoutez dans votre fonction le code nécéssaire à la tranformation des variables catégoricielles (dummies)\n",
    "- Testez votre fonction sur les colonnes que vous avez selectionnez"
   ]
  }
 ],
 "metadata": {
  "kernelspec": {
   "display_name": "Python 3",
   "language": "python",
   "name": "python3"
  },
  "language_info": {
   "codemirror_mode": {
    "name": "ipython",
    "version": 3
   },
   "file_extension": ".py",
   "mimetype": "text/x-python",
   "name": "python",
   "nbconvert_exporter": "python",
   "pygments_lexer": "ipython3",
   "version": "3.6.2"
  }
 },
 "nbformat": 4,
 "nbformat_minor": 2
}
