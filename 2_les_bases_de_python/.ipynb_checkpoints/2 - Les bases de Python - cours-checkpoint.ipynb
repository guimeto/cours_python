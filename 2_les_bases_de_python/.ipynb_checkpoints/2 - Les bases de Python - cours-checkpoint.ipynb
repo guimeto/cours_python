{
 "cells": [
  {
   "cell_type": "markdown",
   "metadata": {},
   "source": [
    "<h1>Objectifs</h1>\n",
    "\n",
    "\n",
    "- comprendre ce qu'est une variable\n",
    "- les règles de nommage d'une variable\n",
    "- Les premiers types de variables\n",
    "- Realiser des opération entre des variables\n",
    "- Vérifier et modifier le type d’une variable\n",
    "- Maitrise de jupyter notebook 2 : execution du code à travers les cellules"
   ]
  },
  {
   "cell_type": "markdown",
   "metadata": {},
   "source": [
    "<h2> Concept de variable et déclaration d’une variable dans Jupyter </h2>\n",
    "\n",
    "- Se retrouve dans pratiquement tous les langages\n",
    "- Données que vous stockez dans votre programme enregistré sous un nom. On pourra ensuite l’utiliser, faire des calculs et la modifier."
   ]
  },
  {
   "cell_type": "code",
   "execution_count": 2,
   "metadata": {},
   "outputs": [
    {
     "name": "stdout",
     "output_type": "stream",
     "text": [
      "data scientist\n"
     ]
    }
   ],
   "source": [
    "job = 'data scientist' # on stocke une valeur dans une variable \n",
    "print(job)"
   ]
  },
  {
   "cell_type": "markdown",
   "metadata": {},
   "source": [
    "Est accessible depuis d’autres cellules"
   ]
  },
  {
   "cell_type": "code",
   "execution_count": 3,
   "metadata": {},
   "outputs": [
    {
     "name": "stdout",
     "output_type": "stream",
     "text": [
      "data scientist\n"
     ]
    }
   ],
   "source": [
    "print(job)"
   ]
  },
  {
   "cell_type": "markdown",
   "metadata": {},
   "source": [
    "Les règles pour ses noms de variable : \n",
    "- Pas d’espace (underscore)\n",
    "- Pas de chiffre au début (1_job = ‘ds’)\n",
    "- Attention à la casse (print(Job))\n",
    "- Mots interdits (se mets en vert) : https://www.programiz.com/python-programming/keywords-identifier\n",
    "- 2 écoles = myJob ou my_job (1 seule à la fois)\n",
    "- Soyez brefs mais clairs (allez l’écrire souvent, un code peut faire des 100aines de ligne)"
   ]
  },
  {
   "cell_type": "markdown",
   "metadata": {},
   "source": [
    "<b> Les type des variables (concept) </b>\n",
    "- Très important (fondamental comme dans tout type de langage)\n",
    "- La manière dont python va comprendre la nature de l’information stockée et permettre certaines actions (ou en bloquer d'autres)\n"
   ]
  },
  {
   "cell_type": "code",
   "execution_count": null,
   "metadata": {},
   "outputs": [],
   "source": [
    "number = 1\n",
    "Job = 'data scientist'\n",
    "print(number+1)\n",
    "print(job+1)"
   ]
  },
  {
   "cell_type": "markdown",
   "metadata": {},
   "source": [
    "- Python comprend la valeur de la variable à la déclaration\n",
    "- Nous allons voir les premiers type de variables"
   ]
  },
  {
   "cell_type": "markdown",
   "metadata": {},
   "source": [
    "<b>Les chiffres et les opérateurs mathématiques</b>\n",
    "- Integer (entier sans virgule)"
   ]
  },
  {
   "cell_type": "code",
   "execution_count": null,
   "metadata": {},
   "outputs": [],
   "source": [
    "motivationScore = 80\n",
    "print(motivationScore)"
   ]
  },
  {
   "cell_type": "markdown",
   "metadata": {},
   "source": [
    "- Float (avec virgules)"
   ]
  },
  {
   "cell_type": "code",
   "execution_count": null,
   "metadata": {},
   "outputs": [],
   "source": [
    "coffeBoost = 1.25\n",
    "print(coffeBoost)"
   ]
  },
  {
   "cell_type": "markdown",
   "metadata": {},
   "source": [
    "- Python peut faire des calculs (opérateurs mathématiques )"
   ]
  },
  {
   "cell_type": "code",
   "execution_count": null,
   "metadata": {},
   "outputs": [],
   "source": [
    "number = 3+3\n",
    "number = 1/3\n",
    "number = 6*6\n",
    "number = 5/2\n",
    "number = 5//2\n",
    "number = ((2+3)*5)/2\n",
    "number  = 2**3\n",
    "number = 10%3\n",
    "number = 10%4\n",
    "number = 10%5\n",
    "print(number)"
   ]
  },
  {
   "cell_type": "markdown",
   "metadata": {},
   "source": [
    "- Calcul entre variables en mixant float et int"
   ]
  },
  {
   "cell_type": "code",
   "execution_count": null,
   "metadata": {},
   "outputs": [],
   "source": [
    "finalMotivationScore = motivationScore*coffeBoost\n",
    "print(finalMotivationScore)"
   ]
  },
  {
   "cell_type": "markdown",
   "metadata": {},
   "source": [
    "<b>Les strings et les opérateurs</b>\n",
    "- Gestion des apostrohpes"
   ]
  },
  {
   "cell_type": "code",
   "execution_count": null,
   "metadata": {},
   "outputs": [],
   "source": [
    "job = 'data science'\n",
    "job"
   ]
  },
  {
   "cell_type": "code",
   "execution_count": null,
   "metadata": {},
   "outputs": [],
   "source": [
    "darkVador = 'Luke, I'm your father'\n",
    "print(darkVador)"
   ]
  },
  {
   "cell_type": "code",
   "execution_count": null,
   "metadata": {},
   "outputs": [],
   "source": [
    "darkVador = \"Luke, I'm your father\"\n",
    "darkVador = 'Luke, I\\'m your father'\n",
    "print(darkVador)"
   ]
  },
  {
   "cell_type": "markdown",
   "metadata": {},
   "source": [
    "- Si texte trop long (marche aussi pour du code classique)"
   ]
  },
  {
   "cell_type": "code",
   "execution_count": null,
   "metadata": {},
   "outputs": [],
   "source": [
    "luke = 'no…That\\'s impossible….Noooooooooooooooooooooooooo\\\n",
    "oooooooooooo'\n",
    "print(luke)"
   ]
  },
  {
   "cell_type": "markdown",
   "metadata": {},
   "source": [
    "- Possible de concatener 2 varaibles"
   ]
  },
  {
   "cell_type": "code",
   "execution_count": null,
   "metadata": {},
   "outputs": [],
   "source": [
    "start = 'luke, I\\'m'\n",
    "end = 'your father'\n",
    "darkVador = start+end\n",
    "print(darkVador)"
   ]
  },
  {
   "cell_type": "code",
   "execution_count": null,
   "metadata": {},
   "outputs": [],
   "source": [
    "darkVador = start+' '+end\n",
    "print(darkVador)"
   ]
  },
  {
   "cell_type": "markdown",
   "metadata": {},
   "source": [
    "- Possible de repeter une string"
   ]
  },
  {
   "cell_type": "code",
   "execution_count": null,
   "metadata": {},
   "outputs": [],
   "source": [
    "luke = 'N'+('o'*10)\n",
    "print(luke)"
   ]
  },
  {
   "cell_type": "markdown",
   "metadata": {},
   "source": [
    "<b>Vérifier et modifier le type d’une variable</b>\n",
    "- exemple (règle : on ne mix pas chiffres et strings dans une concaténation)"
   ]
  },
  {
   "cell_type": "code",
   "execution_count": null,
   "metadata": {},
   "outputs": [],
   "source": [
    "test = job + 'learning motivation ?' + finalMotivationScore + '% !'"
   ]
  },
  {
   "cell_type": "markdown",
   "metadata": {},
   "source": [
    "- Verifier le type d’une variable"
   ]
  },
  {
   "cell_type": "code",
   "execution_count": null,
   "metadata": {},
   "outputs": [],
   "source": [
    "print(type(finalMotivationScore))\n",
    "print(type('test'))\n",
    "print(type(1))"
   ]
  },
  {
   "cell_type": "markdown",
   "metadata": {},
   "source": [
    "- modifier le type d'une variable"
   ]
  },
  {
   "cell_type": "code",
   "execution_count": null,
   "metadata": {},
   "outputs": [],
   "source": [
    "float(1)\n",
    "int(1.3)\n",
    "str(1)"
   ]
  },
  {
   "cell_type": "code",
   "execution_count": null,
   "metadata": {},
   "outputs": [],
   "source": [
    "test = job + ' learning motivation ? ' + str(finalMotivationScore) + '% !'\n",
    "print(test)"
   ]
  },
  {
   "cell_type": "code",
   "execution_count": null,
   "metadata": {},
   "outputs": [],
   "source": [
    "test = job + ' learning motivation ? ' + str(int(finalMotivationScore)) + '% !'\n",
    "print(test)"
   ]
  },
  {
   "cell_type": "markdown",
   "metadata": {},
   "source": [
    "<b> Maitrise de jupyter notebook 2 : execution du code à travers les cellules & commentaires</b>"
   ]
  },
  {
   "cell_type": "markdown",
   "metadata": {},
   "source": [
    "- Modification de la variable au fil du script (la dernière valeur est conservé)"
   ]
  },
  {
   "cell_type": "code",
   "execution_count": null,
   "metadata": {},
   "outputs": [],
   "source": [
    "number = 1.1\n",
    "print(number)\n",
    "print(type(number))\n",
    "\n",
    "number = 1\n",
    "print(number)\n",
    "print(type(number))\n",
    "\n",
    "number = '1'\n",
    "print(number)\n",
    "print(type(number))"
   ]
  },
  {
   "cell_type": "code",
   "execution_count": null,
   "metadata": {},
   "outputs": [],
   "source": [
    "print(number)\n",
    "print(type(number))"
   ]
  },
  {
   "cell_type": "markdown",
   "metadata": {},
   "source": [
    "- Ordre d'execution des cellules important (erreur fréquente)"
   ]
  },
  {
   "cell_type": "code",
   "execution_count": null,
   "metadata": {},
   "outputs": [],
   "source": [
    "number = 1\n",
    "print(number)"
   ]
  },
  {
   "cell_type": "code",
   "execution_count": null,
   "metadata": {},
   "outputs": [],
   "source": [
    "number = 2\n",
    "print(number)"
   ]
  },
  {
   "cell_type": "code",
   "execution_count": null,
   "metadata": {},
   "outputs": [],
   "source": [
    "print(number)"
   ]
  },
  {
   "cell_type": "markdown",
   "metadata": {},
   "source": [
    "- Les commentaires"
   ]
  },
  {
   "cell_type": "code",
   "execution_count": null,
   "metadata": {},
   "outputs": [],
   "source": [
    "''' Premier \n",
    "commentaire '''\n",
    "print(number) #Deuxième commentaire\n",
    "print('voici un #commentaire')"
   ]
  },
  {
   "cell_type": "markdown",
   "metadata": {},
   "source": [
    "Exercices + corrections"
   ]
  }
 ],
 "metadata": {
  "kernelspec": {
   "display_name": "Python 3",
   "language": "python",
   "name": "python3"
  },
  "language_info": {
   "codemirror_mode": {
    "name": "ipython",
    "version": 3
   },
   "file_extension": ".py",
   "mimetype": "text/x-python",
   "name": "python",
   "nbconvert_exporter": "python",
   "pygments_lexer": "ipython3",
   "version": "3.7.3"
  }
 },
 "nbformat": 4,
 "nbformat_minor": 2
}
