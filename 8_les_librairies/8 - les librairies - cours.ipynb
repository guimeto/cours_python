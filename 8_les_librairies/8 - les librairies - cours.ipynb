{
 "cells": [
  {
   "cell_type": "markdown",
   "metadata": {},
   "source": [
    "<h1>Objectifs</h1>\n",
    "\n",
    "- Comprendre ce qu'est une librairie\n",
    "- importer une librairie\n",
    "- Importer un module précis d'une librairie\n",
    "- utiliser les alias\n",
    "- utiliser la librairie math\n",
    "- installer, mettre à jour et vérifier la config d'une librairie avec PIP"
   ]
  },
  {
   "cell_type": "markdown",
   "metadata": {},
   "source": [
    "Les librairies sont des séries de modules déjà toute prêts, permettant de faire des traitements complexes en quelques lignes. ils sont très nombreux : \n",
    "\n",
    "- Mathématique (math)\n",
    "- manipulation grands volumnes de données (numpy,pandas)\n",
    "- data Viz (Matplotlib, Seaborn, Plotly)\n",
    "- Machine learning (scikit learn)\n",
    "- Deep Learning (Keras, Tensorflow)"
   ]
  },
  {
   "cell_type": "code",
   "execution_count": 1,
   "metadata": {},
   "outputs": [],
   "source": [
    "import math\n",
    "#https://docs.python.org/2/library/math.html"
   ]
  },
  {
   "cell_type": "code",
   "execution_count": 2,
   "metadata": {},
   "outputs": [
    {
     "data": {
      "text/plain": [
       "1"
      ]
     },
     "execution_count": 2,
     "metadata": {},
     "output_type": "execute_result"
    }
   ],
   "source": [
    "math.ceil(0.1)"
   ]
  },
  {
   "cell_type": "code",
   "execution_count": 3,
   "metadata": {},
   "outputs": [
    {
     "data": {
      "text/plain": [
       "1"
      ]
     },
     "execution_count": 3,
     "metadata": {},
     "output_type": "execute_result"
    }
   ],
   "source": [
    "import math as m\n",
    "m.floor(1.9)"
   ]
  },
  {
   "cell_type": "code",
   "execution_count": 4,
   "metadata": {},
   "outputs": [
    {
     "data": {
      "text/plain": [
       "5.0"
      ]
     },
     "execution_count": 4,
     "metadata": {},
     "output_type": "execute_result"
    }
   ],
   "source": [
    "from math import sqrt \n",
    "sqrt(25)"
   ]
  },
  {
   "cell_type": "code",
   "execution_count": 5,
   "metadata": {},
   "outputs": [
    {
     "data": {
      "text/plain": [
       "3.141592653589793"
      ]
     },
     "execution_count": 5,
     "metadata": {},
     "output_type": "execute_result"
    }
   ],
   "source": [
    "from math import pi as p\n",
    "p"
   ]
  },
  {
   "cell_type": "markdown",
   "metadata": {},
   "source": [
    "<h2>La librairie PIP</h2>\n",
    "    \n",
    "PiP est un gestionnaire de librairie très important à connaitre. il permet l'installation, la desinstallation, le check et la mise à jours de vos librairies"
   ]
  },
  {
   "cell_type": "code",
   "execution_count": 6,
   "metadata": {},
   "outputs": [
    {
     "name": "stdout",
     "output_type": "stream",
     "text": [
      "Package                            Version    \n",
      "---------------------------------- -----------\n",
      "affine                             2.3.0      \n",
      "alabaster                          0.7.12     \n",
      "anaconda-client                    1.7.2      \n",
      "anaconda-navigator                 1.9.12     \n",
      "anaconda-project                   0.8.2      \n",
      "asn1crypto                         0.24.0     \n",
      "astroid                            2.2.5      \n",
      "astropy                            3.1.2      \n",
      "atomicwrites                       1.3.0      \n",
      "attrs                              19.1.0     \n",
      "Babel                              2.6.0      \n",
      "backcall                           0.1.0      \n",
      "backports.os                       0.1.1      \n",
      "backports.shutil-get-terminal-size 1.0.0      \n",
      "beautifulsoup4                     4.7.1      \n",
      "bitarray                           0.8.3      \n",
      "bkcharts                           0.2        \n",
      "bleach                             3.1.0      \n",
      "bokeh                              1.0.4      \n",
      "boto                               2.49.0     \n",
      "Bottleneck                         1.2.1      \n",
      "Cartopy                            0.17.0     \n",
      "cdo                                1.5.2      \n",
      "cdsapi                             0.2.5      \n",
      "cdstoolbox-remote                  0.0.1      \n",
      "certifi                            2019.3.9   \n",
      "cffi                               1.12.2     \n",
      "cftime                             1.0.4.2    \n",
      "chardet                            3.0.4      \n",
      "chart-studio                       1.0.0      \n",
      "chroma-py                          0.1.0.dev1 \n",
      "Click                              7.0        \n",
      "click-plugins                      1.1.1      \n",
      "cligj                              0.5.0      \n",
      "cloudpickle                        0.8.0      \n",
      "clyent                             1.2.2      \n",
      "colorama                           0.4.1      \n",
      "colour                             0.1.5      \n",
      "comtypes                           1.1.7      \n",
      "conda                              4.8.2      \n",
      "conda-build                        3.17.8     \n",
      "conda-package-handling             1.6.0      \n",
      "conda-verify                       3.1.1      \n",
      "configobj                          5.0.6      \n",
      "contextlib2                        0.5.5      \n",
      "cryptography                       2.6.1      \n",
      "cycler                             0.10.0     \n",
      "Cython                             0.29.6     \n",
      "cytoolz                            0.9.0.1    \n",
      "dask                               1.1.4      \n",
      "decorator                          4.4.0      \n",
      "defusedxml                         0.5.0      \n",
      "descartes                          1.1.0      \n",
      "distributed                        1.26.0     \n",
      "docutils                           0.14       \n",
      "entrypoints                        0.3        \n",
      "epiweeks                           2.1.1      \n",
      "et-xmlfile                         1.0.1      \n",
      "fastcache                          1.0.2      \n",
      "filelock                           3.0.10     \n",
      "Fiona                              1.8.4      \n",
      "Flask                              1.0.2      \n",
      "future                             0.18.2     \n",
      "GDAL                               2.3.3      \n",
      "geographiclib                      1.50       \n",
      "geojson                            2.5.0      \n",
      "geopandas                          0.5.1      \n",
      "geopy                              1.21.0     \n",
      "gevent                             1.4.0      \n",
      "glob2                              0.6        \n",
      "greenlet                           0.4.15     \n",
      "h5py                               2.9.0      \n",
      "heapdict                           1.0.0      \n",
      "html5lib                           1.0.1      \n",
      "idna                               2.8        \n",
      "imageio                            2.5.0      \n",
      "imagesize                          1.1.0      \n",
      "importlib-metadata                 0.0.0      \n",
      "ipykernel                          5.1.0      \n",
      "ipython                            7.4.0      \n",
      "ipython-genutils                   0.2.0      \n",
      "ipywidgets                         7.4.2      \n",
      "isort                              4.3.16     \n",
      "itsdangerous                       1.1.0      \n",
      "jdcal                              1.4        \n",
      "jedi                               0.13.3     \n",
      "Jinja2                             2.10       \n",
      "jsonschema                         3.0.1      \n",
      "jupyter                            1.0.0      \n",
      "jupyter-client                     5.2.4      \n",
      "jupyter-console                    6.0.0      \n",
      "jupyter-core                       4.4.0      \n",
      "jupyterlab                         0.35.4     \n",
      "jupyterlab-server                  0.2.0      \n",
      "keyring                            18.0.0     \n",
      "kiwisolver                         1.0.1      \n",
      "lazy-object-proxy                  1.3.1      \n",
      "libarchive-c                       2.8        \n",
      "llvmlite                           0.28.0     \n",
      "locket                             0.2.0      \n",
      "lxml                               4.3.2      \n",
      "mapboxgl                           0.10.2     \n",
      "MarkupSafe                         1.1.1      \n",
      "matplotlib                         3.0.3      \n",
      "mccabe                             0.6.1      \n",
      "memory-profiler                    0.56.0     \n",
      "menuinst                           1.4.16     \n",
      "MetPy                              0.10.0     \n",
      "mistune                            0.8.4      \n",
      "mkl-fft                            1.0.10     \n",
      "mkl-random                         1.0.2      \n",
      "more-itertools                     6.0.0      \n",
      "mpmath                             1.1.0      \n",
      "msgpack                            0.6.1      \n",
      "multipledispatch                   0.6.0      \n",
      "munch                              2.5.0      \n",
      "navigator-updater                  0.2.1      \n",
      "nbconvert                          5.4.1      \n",
      "nbformat                           4.4.0      \n",
      "netCDF4                            1.4.2      \n",
      "networkx                           2.2        \n",
      "nltk                               3.4        \n",
      "nose                               1.3.7      \n",
      "notebook                           5.7.8      \n",
      "numba                              0.43.1     \n",
      "numexpr                            2.6.9      \n",
      "numpy                              1.16.2     \n",
      "numpydoc                           0.8.0      \n",
      "olefile                            0.46       \n",
      "openpyxl                           2.6.1      \n",
      "OWSLib                             0.19.1     \n",
      "packaging                          19.0       \n",
      "pandas                             0.24.2     \n",
      "pandocfilters                      1.4.2      \n",
      "parso                              0.3.4      \n",
      "partd                              0.3.10     \n",
      "path.py                            11.5.0     \n",
      "pathlib2                           2.3.3      \n",
      "patsy                              0.5.1      \n",
      "pep8                               1.7.1      \n",
      "pickleshare                        0.7.5      \n",
      "Pillow                             5.4.1      \n",
      "Pint                               0.11       \n",
      "pip                                19.0.3     \n",
      "pkginfo                            1.5.0.1    \n",
      "plotly                             4.5.2      \n",
      "plotly-geo                         1.0.0      \n",
      "pluggy                             0.9.0      \n",
      "ply                                3.11       \n",
      "pooch                              0.2.1      \n",
      "prometheus-client                  0.6.0      \n",
      "prompt-toolkit                     2.0.9      \n",
      "psutil                             5.6.1      \n",
      "psycopg2                           2.8.2      \n",
      "py                                 1.8.0      \n",
      "pycodestyle                        2.5.0      \n",
      "pycosat                            0.6.3      \n",
      "pycparser                          2.19       \n",
      "pycrypto                           2.6.1      \n",
      "pycurl                             7.43.0.2   \n",
      "pyepsg                             0.4.0      \n",
      "pyflakes                           2.1.1      \n",
      "Pygments                           2.3.1      \n",
      "pykdtree                           1.3.1      \n",
      "pylint                             2.3.1      \n",
      "pymeteo                            1.0.1      \n",
      "pyodbc                             4.0.26     \n",
      "pyOpenSSL                          19.0.0     \n",
      "pyparsing                          2.3.1      \n",
      "pyproj                             1.9.6      \n",
      "pyreadline                         2.1        \n",
      "pyresample                         1.13.2     \n",
      "pyrsistent                         0.14.11    \n",
      "pyshp                              2.1.0      \n",
      "PySocks                            1.6.8      \n",
      "pytest                             4.3.1      \n",
      "pytest-arraydiff                   0.3        \n",
      "pytest-astropy                     0.5.0      \n",
      "pytest-doctestplus                 0.3.0      \n",
      "pytest-openfiles                   0.3.2      \n",
      "pytest-remotedata                  0.3.1      \n",
      "python-dateutil                    2.8.0      \n",
      "pytz                               2018.9     \n",
      "PyWavelets                         1.0.2      \n",
      "pywin32                            223        \n",
      "pywin32-ctypes                     0.2.0      \n",
      "pywinpty                           0.5.5      \n",
      "PyYAML                             5.1        \n",
      "pyzmq                              18.0.0     \n",
      "QtAwesome                          0.5.7      \n",
      "qtconsole                          4.4.3      \n",
      "QtPy                               1.7.0      \n",
      "rasterio                           1.0.21     \n",
      "regionmask                         0.4.0      \n",
      "requests                           2.21.0     \n",
      "retrying                           1.3.3      \n",
      "rope                               0.12.0     \n",
      "Rtree                              0.9.4      \n",
      "ruamel-yaml                        0.15.46    \n",
      "scikit-image                       0.14.2     \n",
      "scikit-learn                       0.20.3     \n",
      "scipy                              1.2.1      \n",
      "seaborn                            0.9.0      \n",
      "Send2Trash                         1.5.0      \n",
      "setuptools                         40.8.0     \n",
      "Shapely                            1.6.4.post2\n",
      "simplegeneric                      0.8.1      \n",
      "singledispatch                     3.4.0.3    \n",
      "six                                1.12.0     \n",
      "snowballstemmer                    1.2.1      \n",
      "snuggs                             1.4.7      \n",
      "sortedcollections                  1.1.2      \n",
      "sortedcontainers                   2.1.0      \n",
      "soupsieve                          1.8        \n",
      "Sphinx                             1.8.5      \n",
      "sphinxcontrib-websupport           1.1.0      \n",
      "spyder                             3.3.3      \n",
      "spyder-kernels                     0.4.2      \n",
      "SQLAlchemy                         1.3.1      \n",
      "statsmodels                        0.9.0      \n",
      "sympy                              1.3        \n",
      "tables                             3.5.1      \n",
      "tabulate                           0.8.6      \n",
      "tblib                              1.3.2      \n",
      "terminado                          0.8.1      \n",
      "testpath                           0.4.2      \n",
      "toolz                              0.9.0      \n",
      "tornado                            6.0.2      \n",
      "tqdm                               4.31.1     \n",
      "traitlets                          4.3.2      \n",
      "unicodecsv                         0.14.1     \n",
      "urllib3                            1.24.1     \n",
      "virtualenv                         16.0.0     \n",
      "wcwidth                            0.1.7      \n",
      "webencodings                       0.5.1      \n",
      "Werkzeug                           0.14.1     \n",
      "wget                               3.2        \n",
      "wheel                              0.33.1     \n",
      "widgetsnbextension                 3.4.2      \n",
      "win-inet-pton                      1.1.0      \n",
      "win-unicode-console                0.5        \n",
      "wincertstore                       0.2        \n",
      "wrapt                              1.11.1     \n",
      "xarray                             0.14.1     \n",
      "xlrd                               1.2.0      \n",
      "XlsxWriter                         1.1.5      \n",
      "xlwings                            0.15.4     \n",
      "xlwt                               1.3.0      \n",
      "xmltodict                          0.12.0     \n",
      "xshape                             0.1.1      \n",
      "zict                               0.1.4      \n",
      "zipp                               0.3.3      \n"
     ]
    }
   ],
   "source": [
    "! pip list"
   ]
  },
  {
   "cell_type": "code",
   "execution_count": 7,
   "metadata": {},
   "outputs": [
    {
     "name": "stdout",
     "output_type": "stream",
     "text": [
      "Name: pandas\n",
      "Version: 0.24.2\n",
      "Summary: Powerful data structures for data analysis, time series, and statistics\n",
      "Home-page: http://pandas.pydata.org\n",
      "Author: None\n",
      "Author-email: None\n",
      "License: BSD\n",
      "Location: d:\\utilisateurs\\guillaume\\anaconda3\\lib\\site-packages\n",
      "Requires: pytz, python-dateutil, numpy\n",
      "Required-by: xshape, xarray, seaborn, geopandas\n"
     ]
    }
   ],
   "source": [
    "! pip show pandas"
   ]
  },
  {
   "cell_type": "code",
   "execution_count": null,
   "metadata": {},
   "outputs": [],
   "source": [
    "! pip uninstall plotly"
   ]
  },
  {
   "cell_type": "code",
   "execution_count": 1,
   "metadata": {},
   "outputs": [],
   "source": [
    "import plotly"
   ]
  },
  {
   "cell_type": "code",
   "execution_count": null,
   "metadata": {},
   "outputs": [],
   "source": [
    "! pip install plotly"
   ]
  },
  {
   "cell_type": "code",
   "execution_count": 2,
   "metadata": {},
   "outputs": [
    {
     "name": "stdout",
     "output_type": "stream",
     "text": [
      "Collecting plotly\n",
      "  Downloading https://files.pythonhosted.org/packages/70/56/eabdc7b7187cdb9d6121f6de2831ad5b85f7d002fa4bfe0476dbdb554bf6/plotly-4.8.1-py2.py3-none-any.whl (11.5MB)\n",
      "Requirement already satisfied, skipping upgrade: six in d:\\utilisateurs\\guillaume\\anaconda3\\lib\\site-packages (from plotly) (1.12.0)\n",
      "Requirement already satisfied, skipping upgrade: retrying>=1.3.3 in d:\\utilisateurs\\guillaume\\anaconda3\\lib\\site-packages (from plotly) (1.3.3)\n",
      "Installing collected packages: plotly\n",
      "  Found existing installation: plotly 4.5.2\n",
      "    Uninstalling plotly-4.5.2:\n",
      "      Successfully uninstalled plotly-4.5.2\n",
      "Successfully installed plotly-4.8.1\n"
     ]
    }
   ],
   "source": [
    "! pip install plotly --upgrade"
   ]
  },
  {
   "cell_type": "code",
   "execution_count": null,
   "metadata": {},
   "outputs": [],
   "source": []
  }
 ],
 "metadata": {
  "kernelspec": {
   "display_name": "Python 3",
   "language": "python",
   "name": "python3"
  },
  "language_info": {
   "codemirror_mode": {
    "name": "ipython",
    "version": 3
   },
   "file_extension": ".py",
   "mimetype": "text/x-python",
   "name": "python",
   "nbconvert_exporter": "python",
   "pygments_lexer": "ipython3",
   "version": "3.7.3"
  }
 },
 "nbformat": 4,
 "nbformat_minor": 2
}
