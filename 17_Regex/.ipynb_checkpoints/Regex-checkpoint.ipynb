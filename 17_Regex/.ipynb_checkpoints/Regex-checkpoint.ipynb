{
 "cells": [
  {
   "cell_type": "markdown",
   "metadata": {},
   "source": [
    "<h1> Les expressions régulières (regex) </h1>\n",
    "\n",
    "\n",
    "<h2>Objectifs</h2>\n",
    "\n",
    "- comprendre ce qu'est un regex\n",
    "- appliquer un regex dans des listes et des documents complets\n",
    "\n",
    "\n",
    "Un Regex est une séquence de caractères qui décrit et recherche un élément dans un ensemble. \n"
   ]
  },
  {
   "cell_type": "code",
   "execution_count": 2,
   "metadata": {},
   "outputs": [],
   "source": [
    "strings = [\"data science\",\"big data\"]\n",
    "regex = \"data\""
   ]
  },
  {
   "cell_type": "markdown",
   "metadata": {},
   "source": [
    "Le regex commun ici est la chaîne de caractère 'data'. "
   ]
  },
  {
   "cell_type": "code",
   "execution_count": 3,
   "metadata": {},
   "outputs": [
    {
     "name": "stdout",
     "output_type": "stream",
     "text": [
      "data\n"
     ]
    }
   ],
   "source": [
    "print(regex)"
   ]
  },
  {
   "cell_type": "markdown",
   "metadata": {},
   "source": [
    "<h2>1- Les caractères génériques</h2>\n",
    "\n",
    "Utilisation de caractères spéciaux pour aller chercher une expression: exemple du point '.' "
   ]
  },
  {
   "cell_type": "code",
   "execution_count": 3,
   "metadata": {},
   "outputs": [],
   "source": [
    "strings = [\"but\",\"batte\",\"robotique\"]\n",
    "regex = \"b.t\""
   ]
  },
  {
   "cell_type": "markdown",
   "metadata": {},
   "source": [
    "<h2>2-  Rechercher le debut ou fin d'une chaine de caractères</h2>\n",
    "\n",
    " - '^' pour le debut d'une chaine\n",
    " - '$' pour les fins de chaines\n"
   ]
  },
  {
   "cell_type": "code",
   "execution_count": 4,
   "metadata": {},
   "outputs": [],
   "source": [
    "strings = [\"il est sur le feu\",\"fou\"]\n",
    "bad_string = \"un feu de paille\"\n",
    "regex = \"f.u$\"  "
   ]
  },
  {
   "cell_type": "markdown",
   "metadata": {},
   "source": [
    "<h2>3-  Mise en pratique</h2>\n",
    "\n",
    "Lecture d'un fichier de commentaires. "
   ]
  },
  {
   "cell_type": "code",
   "execution_count": 4,
   "metadata": {},
   "outputs": [
    {
     "data": {
      "text/plain": [
       "[['Title', 'Score', 'Time', 'Gold', 'NumComs'],\n",
       " ['What\\'s your internet \"white whale\", something you\\'ve been searching for years to find with no luck?',\n",
       "  '11510',\n",
       "  '1433213314.0',\n",
       "  '1',\n",
       "  '26195'],\n",
       " [\"What's your favorite video that is 10 seconds or less?\",\n",
       "  '8656',\n",
       "  '1434205517.0',\n",
       "  '4',\n",
       "  '8479'],\n",
       " ['What are some interesting tests you can take to find out about yourself?',\n",
       "  '8480',\n",
       "  '1443409636.0',\n",
       "  '1',\n",
       "  '4055'],\n",
       " [\"PhD's of Reddit. What is a dumbed down summary of your thesis?\",\n",
       "  '7927',\n",
       "  '1440188623.0',\n",
       "  '0',\n",
       "  '13201']]"
      ]
     },
     "execution_count": 4,
     "metadata": {},
     "output_type": "execute_result"
    }
   ],
   "source": [
    "import csv\n",
    "f = open(\"askreddit-2015.csv\", encoding='utf-8')\n",
    "csvreader=csv.reader(f)\n",
    "posts=list(csvreader)\n",
    "posts[0:5]"
   ]
  },
  {
   "cell_type": "code",
   "execution_count": 5,
   "metadata": {},
   "outputs": [],
   "source": [
    "posts = posts[1:] # pour retirer l'entête"
   ]
  },
  {
   "cell_type": "code",
   "execution_count": 6,
   "metadata": {},
   "outputs": [
    {
     "name": "stdout",
     "output_type": "stream",
     "text": [
      "['What\\'s your internet \"white whale\", something you\\'ve been searching for years to find with no luck?', '11510', '1433213314.0', '1', '26195']\n",
      "[\"What's your favorite video that is 10 seconds or less?\", '8656', '1434205517.0', '4', '8479']\n",
      "['What are some interesting tests you can take to find out about yourself?', '8480', '1443409636.0', '1', '4055']\n",
      "[\"PhD's of Reddit. What is a dumbed down summary of your thesis?\", '7927', '1440188623.0', '0', '13201']\n",
      "['What is cool to be good at, yet uncool to be REALLY good at?', '7711', '1440082910.0', '0', '20325']\n",
      "['[Serious] Redditors currently in a relationship, besides dinner and a movie, what are your favorite activities for date night?', '7598', '1439993280.0', '2', '5389']\n",
      "[\"Parents of Reddit, what's something that your kid has done that you pretended to be angry about but secretly impressed or amused you?\", '7553', '1439161809.0', '0', '11520']\n",
      "['What is a good subreddit to binge read the All Time Top Posts of?', '7498', '1438822288.0', '0', '2780']\n",
      "['What would the person who named Walkie Talkies have named other items?', '7501', '1447904351.0', '4', '6720']\n",
      "[\"People who grew up in a different socioeconomic class as your significant others, what are the notable differences you've noticed and how does it affect your relationship (if at all)?\", '7419', '1440358069.0', '0', '8603']\n"
     ]
    }
   ],
   "source": [
    "for post in posts[:10]:\n",
    "    print(post)"
   ]
  },
  {
   "cell_type": "markdown",
   "metadata": {},
   "source": [
    "<h2>4-  Compter les correspondances avec le module re() </h2>\n",
    "\n",
    "- re.search(regex,string): le module re() permet de chercher des expressions régulières"
   ]
  },
  {
   "cell_type": "code",
   "execution_count": 7,
   "metadata": {},
   "outputs": [
    {
     "name": "stdout",
     "output_type": "stream",
     "text": [
      "trouvé\n"
     ]
    }
   ],
   "source": [
    "import re\n",
    "\n",
    "if re.search(\"f.\",\"kung fu\") is not None:\n",
    "    print(\"trouvé\")\n",
    "    \n",
    "else:\n",
    "    print(\"Aucune correspondance\")\n",
    "    "
   ]
  },
  {
   "cell_type": "code",
   "execution_count": 8,
   "metadata": {},
   "outputs": [
    {
     "name": "stdout",
     "output_type": "stream",
     "text": [
      "Aucune correspondance\n"
     ]
    }
   ],
   "source": [
    "import re\n",
    "\n",
    "if re.search(\"baton\",\"kung fu\") is not None:\n",
    "    print(\"trouvé\")\n",
    "    \n",
    "else:\n",
    "    print(\"Aucune correspondance\")"
   ]
  },
  {
   "cell_type": "markdown",
   "metadata": {
    "collapsed": true
   },
   "source": [
    "Dans notre dataset, on va compter le nombre de fois que l'on trouve une expression: \"of Reddit\"."
   ]
  },
  {
   "cell_type": "code",
   "execution_count": 9,
   "metadata": {},
   "outputs": [
    {
     "name": "stdout",
     "output_type": "stream",
     "text": [
      "76\n"
     ]
    }
   ],
   "source": [
    "import re \n",
    "\n",
    "regex = \"of Reddit\"\n",
    "of_reddit_count=0\n",
    "for post in posts:\n",
    "    if re.search(regex,post[0]) is not None:\n",
    "        of_reddit_count +=1 \n",
    "        \n",
    "print(of_reddit_count)"
   ]
  },
  {
   "cell_type": "markdown",
   "metadata": {},
   "source": [
    "<h2>5- Lettres minuscules et majuscules </h2>"
   ]
  },
  {
   "cell_type": "markdown",
   "metadata": {
    "collapsed": true
   },
   "source": [
    "Les crochets permettent de matcher à la fois avec les lettres minuscules et les majuscules"
   ]
  },
  {
   "cell_type": "code",
   "execution_count": 10,
   "metadata": {},
   "outputs": [],
   "source": [
    "regex = \"[slm]ac\"\n",
    "# cette expression permettra de chercher les caratères suivants: \n",
    "strings=[\"sac\",\"lac\",\"mac\"]"
   ]
  },
  {
   "cell_type": "markdown",
   "metadata": {},
   "source": [
    "Donc si on veut aller chercher toutes les occurences de 'of reddit' et 'of Reddit'dans notre exemple précédent: "
   ]
  },
  {
   "cell_type": "code",
   "execution_count": 11,
   "metadata": {},
   "outputs": [
    {
     "name": "stdout",
     "output_type": "stream",
     "text": [
      "102\n"
     ]
    }
   ],
   "source": [
    "import re \n",
    "\n",
    "regex = \"of [Rr]eddit\"\n",
    "of_reddit_count=0\n",
    "for post in posts:\n",
    "    if re.search(regex,post[0]) is not None:\n",
    "        of_reddit_count +=1 \n",
    "        \n",
    "print(of_reddit_count)"
   ]
  },
  {
   "cell_type": "markdown",
   "metadata": {
    "collapsed": true
   },
   "source": [
    "<h2>6- Les caractères spéciaux</h2>\n",
    "\n",
    "- .\t\t\t\tLe point correspond à tous les caractères possibles (incluant symboles)\n",
    "- [A-F]\t\t\tCorrespond à une liste de caractères possibles.\n",
    "- (python|c++)\tL'un ou l'autre\n",
    "- ^\t\t\t\tLe contraire de ce qu'on veut.\n",
    "- \\d \t\t\tUniquement des chiffres. Équivalent à [0-9]\n",
    "- \\D \t\t\tTout sauf des chiffres. Équivalent à [^0-9]\n",
    "- \\s \t\t\tUn espace\n",
    "- \\w \t\t\tUn caractère alphanumérique. Équivalent à [a-zA-Z0-9_]\n",
    "- \\W \t\t\tTout sauf un caractère alphanumérique. Équivalent à [^a-zA-Z0-9_]\n",
    "- \\ \t\t\tComme en Python, pour échapper un caractère.\n",
    "\n",
    "\n",
    "Pour compter les nombres d'occurence: \n",
    "\n",
    "- ? \t\t0 ou 1 fois\n",
    "- `.`\t    \t0 à l'infini\n",
    "- `+`\t    \tde 1 à l'infini\n",
    "- {3} \t\texactement 3\n",
    "- {3,}  \tde 3 à l'infini\n",
    "- {,3}  \tde 0 à 3 fois\n",
    "- {3,6} \tde 3 à 6 fois\n",
    "\n",
    "\n",
    "\n",
    "\n"
   ]
  },
  {
   "cell_type": "code",
   "execution_count": 12,
   "metadata": {},
   "outputs": [],
   "source": [
    "#[Serious]\n",
    "regex=\"[Serious]\"\n",
    "\n",
    "# \\ pour ignorer les '[' (crochets) dans notre regex  \n",
    "\n",
    "regex = \"\\.$\" # pour avoir que les fins de phrases\n"
   ]
  },
  {
   "cell_type": "code",
   "execution_count": 13,
   "metadata": {},
   "outputs": [
    {
     "name": "stdout",
     "output_type": "stream",
     "text": [
      "69\n"
     ]
    }
   ],
   "source": [
    "import re\n",
    "\n",
    "regex = \"\\[Serious\\]\"\n",
    "serious_count=0\n",
    "for post in posts:\n",
    "    if re.search(regex,post[0]) is not None:\n",
    "        serious_count +=1 \n",
    "print(serious_count)"
   ]
  },
  {
   "cell_type": "markdown",
   "metadata": {},
   "source": [
    "<h2>7- Améliorer notre regex</h2>\n",
    "\n",
    "Dans notre fichier on doit aller chercher les tags avec les expressions: \n",
    "- (Serious) , (serious), [Serious], [serious]"
   ]
  },
  {
   "cell_type": "code",
   "execution_count": 29,
   "metadata": {},
   "outputs": [
    {
     "name": "stdout",
     "output_type": "stream",
     "text": [
      "80\n"
     ]
    }
   ],
   "source": [
    "import re\n",
    "serious_count=0\n",
    "for post in posts:\n",
    "    if re.search(\"[\\[\\(][Ss]erious[\\]\\)]\",post[0]) is not None:\n",
    "        serious_count +=1\n",
    "print(serious_count)"
   ]
  },
  {
   "cell_type": "code",
   "execution_count": 26,
   "metadata": {},
   "outputs": [
    {
     "name": "stdout",
     "output_type": "stream",
     "text": [
      "80\n"
     ]
    }
   ],
   "source": [
    "import re\n",
    "serious_count=0\n",
    "for post in posts:\n",
    "    if re.search(\"\\([Ss]erious\\)\",post[0]) is not None:\n",
    "        serious_count +=1\n",
    "    if re.search(\"\\[[Ss]erious\\]\",post[0]) is not None:\n",
    "        serious_count +=1\n",
    "print(serious_count)"
   ]
  },
  {
   "cell_type": "markdown",
   "metadata": {},
   "source": [
    "<h2>8- Combiner plusieurs regex</h2>\n",
    "\n",
    "- '|' pour combiner deux regex"
   ]
  },
  {
   "cell_type": "code",
   "execution_count": 30,
   "metadata": {},
   "outputs": [
    {
     "name": "stdout",
     "output_type": "stream",
     "text": [
      "69\n",
      "11\n",
      "73\n"
     ]
    }
   ],
   "source": [
    "import re\n",
    "\n",
    "serious_start_count = 0\n",
    "serious_end_count = 0\n",
    "serious_count_final = 0\n",
    "\n",
    "for row in posts:\n",
    "    if re.search(\"^[\\(\\[][Ss]erious[\\)\\]]\",row[0]) is not None:  # pour les tags serious au début\n",
    "        serious_start_count += 1\n",
    "    if re.search(\"[\\(\\[][Ss]erious[\\)\\]]$\",row[0]) is not None: # pour les tags serious à la fin\n",
    "        serious_end_count += 1 \n",
    "    if re.search(\"^[\\(\\[][Ss]erious[\\)\\]] | [\\(\\[][Ss]erious[\\)\\]]$\",row[0]) is not None:   # pour les tags serious pour les deux\n",
    "        serious_count_final  += 1 \n",
    "print(serious_start_count)\n",
    "print(serious_end_count)\n",
    "print(serious_count_final)"
   ]
  },
  {
   "cell_type": "markdown",
   "metadata": {},
   "source": [
    "<h2>9- Modifier des chaines de caractères avec regex</h2>\n",
    "\n",
    "- fonction sub() du module re()."
   ]
  },
  {
   "cell_type": "code",
   "execution_count": 31,
   "metadata": {},
   "outputs": [
    {
     "data": {
      "text/plain": [
       "'hello world!'"
      ]
     },
     "execution_count": 31,
     "metadata": {},
     "output_type": "execute_result"
    }
   ],
   "source": [
    "re.sub('yo','hello','yo world!')"
   ]
  },
  {
   "cell_type": "code",
   "execution_count": 33,
   "metadata": {},
   "outputs": [
    {
     "data": {
      "text/plain": [
       "'yo world!'"
      ]
     },
     "execution_count": 33,
     "metadata": {},
     "output_type": "execute_result"
    }
   ],
   "source": [
    "re.sub('hi','hello','yo world!')"
   ]
  },
  {
   "cell_type": "code",
   "execution_count": 32,
   "metadata": {},
   "outputs": [],
   "source": [
    "import re \n",
    "\n",
    "posts_new = []\n",
    "\n",
    "for post in posts:\n",
    "    post[0] = re.sub(\"[\\[\\(][Ss]erious[\\]\\)]\",\"[Serious]\" , post[0])\n",
    "    posts_new.append(post)"
   ]
  },
  {
   "cell_type": "code",
   "execution_count": 43,
   "metadata": {},
   "outputs": [
    {
     "name": "stdout",
     "output_type": "stream",
     "text": [
      "[['What\\'s your internet \"white whale\", something you\\'ve been searching for years to find with no luck?', '11510', '1433213314.0', '1', '26195'], [\"What's your favorite video that is 10 seconds or less?\", '8656', '1434205517.0', '4', '8479'], ['What are some interesting tests you can take to find out about yourself?', '8480', '1443409636.0', '1', '4055'], [\"PhD's of Reddit. What is a dumbed down summary of your thesis?\", '7927', '1440188623.0', '0', '13201'], ['What is cool to be good at, yet uncool to be REALLY good at?', '7711', '1440082910.0', '0', '20325'], ['[Serious] Redditors currently in a relationship, besides dinner and a movie, what are your favorite activities for date night?', '7598', '1439993280.0', '2', '5389'], [\"Parents of Reddit, what's something that your kid has done that you pretended to be angry about but secretly impressed or amused you?\", '7553', '1439161809.0', '0', '11520'], ['What is a good subreddit to binge read the All Time Top Posts of?', '7498', '1438822288.0', '0', '2780'], ['What would the person who named Walkie Talkies have named other items?', '7501', '1447904351.0', '4', '6720'], [\"People who grew up in a different socioeconomic class as your significant others, what are the notable differences you've noticed and how does it affect your relationship (if at all)?\", '7419', '1440358069.0', '0', '8603']]\n"
     ]
    }
   ],
   "source": [
    "print(posts_new[0:10])"
   ]
  },
  {
   "cell_type": "markdown",
   "metadata": {},
   "source": [
    "<h2>10- Trouver les années avec 4 chiffres</h2>\n"
   ]
  },
  {
   "cell_type": "markdown",
   "metadata": {
    "collapsed": true
   },
   "source": [
    "-  [0-9] rechercher les chiffres en 0 et 9 \n",
    "-  [a-z] [A-Z] rechercher les lettres entre a et z et entre A et Z\n",
    "\n",
    "-  [1-2][0-9][0-9][0-9] pour rechercher les années\n",
    "-  [1-2][0-9]{3} : accolades pour faire des répétitions "
   ]
  },
  {
   "cell_type": "code",
   "execution_count": 37,
   "metadata": {},
   "outputs": [
    {
     "data": {
      "text/plain": [
       "[]"
      ]
     },
     "execution_count": 37,
     "metadata": {},
     "output_type": "execute_result"
    }
   ],
   "source": [
    "year_strings = []\n",
    "\n",
    "for string in strings:\n",
    "    \n",
    "    if re.search(\"[1-2][0-9]{3}\",string) is not None:\n",
    "        year_strings.append(string)\n",
    "        \n",
    "year_strings"
   ]
  },
  {
   "cell_type": "markdown",
   "metadata": {},
   "source": [
    "<h2>11- Extraire toutes les années de notre document </h2>\n",
    "\n",
    "- on peut utiliser la fonction findall() du module re()"
   ]
  },
  {
   "cell_type": "code",
   "execution_count": 46,
   "metadata": {},
   "outputs": [
    {
     "data": {
      "text/plain": [
       "['a', 'b', 'c']"
      ]
     },
     "execution_count": 46,
     "metadata": {},
     "output_type": "execute_result"
    }
   ],
   "source": [
    "# findall()\n",
    "re.findall(\"[a-z]\",\"abc123\")"
   ]
  },
  {
   "cell_type": "code",
   "execution_count": 38,
   "metadata": {},
   "outputs": [
    {
     "name": "stdout",
     "output_type": "stream",
     "text": [
      "['2017', '2016', '2018']\n"
     ]
    }
   ],
   "source": [
    "year_strings='On est déjà en 2017, une année de plus que 2016 et de moins que 2018'\n",
    "years=re.findall(\"[1-2][0-9]{3}\",year_strings)\n",
    "print(years)"
   ]
  },
  {
   "cell_type": "code",
   "execution_count": 50,
   "metadata": {
    "collapsed": true
   },
   "outputs": [],
   "source": []
  },
  {
   "cell_type": "code",
   "execution_count": null,
   "metadata": {
    "collapsed": true
   },
   "outputs": [],
   "source": []
  }
 ],
 "metadata": {
  "kernelspec": {
   "display_name": "Python 3",
   "language": "python",
   "name": "python3"
  },
  "language_info": {
   "codemirror_mode": {
    "name": "ipython",
    "version": 3
   },
   "file_extension": ".py",
   "mimetype": "text/x-python",
   "name": "python",
   "nbconvert_exporter": "python",
   "pygments_lexer": "ipython3",
   "version": "3.7.3"
  }
 },
 "nbformat": 4,
 "nbformat_minor": 2
}
